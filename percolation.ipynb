{
 "cells": [
  {
   "cell_type": "code",
   "execution_count": 79,
   "metadata": {},
   "outputs": [],
   "source": [
    "import numpy as np \n",
    "import matplotlib.pyplot as plt \n",
    "from IPython.display import clear_output"
   ]
  },
  {
   "cell_type": "code",
   "execution_count": 80,
   "metadata": {},
   "outputs": [],
   "source": [
    "L = 16\n",
    "protek = 5\n",
    "grid = (np.random.rand(L, 2 * L))\n",
    "grid_states = (np.random.rand(L, 2 * L)) # !!!!!!!!!!!!!!!!!!!!!!!!!!!!!!!!!!!!!!!!!!!!!!!!!!!!!!!!!!!\n",
    "field_states = np.zeros((L * L, L, 2 * L))"
   ]
  },
  {
   "cell_type": "code",
   "execution_count": 81,
   "metadata": {},
   "outputs": [],
   "source": [
    "initial_idx = np.arange(int(L/2), L)\n",
    "grid[initial_idx, 0] = protek\n",
    "\n",
    "perimeter = [(idx, 1) for idx in initial_idx] + [(int(L/2) - 1, 0)]\n",
    "j = 0\n",
    "iterator = 0\n",
    "while j != 2 * L - 1:\n",
    "    idx_min_point = np.argmin([grid[p] for p in perimeter])\n",
    "    i, j = perimeter[idx_min_point]\n",
    "    grid[i, j] = protek\n",
    "    field_states[iterator] = grid\n",
    "    perimeter.pop(idx_min_point)\n",
    "    area = [(i - 1, j), \n",
    "            (i + 1, j), \n",
    "            (i, j - 1), \n",
    "            (i, j + 1)] # новые потенциальные соседи\n",
    "    for cell in area:\n",
    "        if 0 <= cell[0] < L and 0 <= cell[1] < 2 * L: # проверка выхода за границы поля\n",
    "            if cell in perimeter or grid[cell] == protek:\n",
    "                continue\n",
    "            else:\n",
    "                perimeter.append(cell)\n",
    "    iterator += 1\n",
    "                \n",
    "  \n",
    "# plt.imshow(grid)\n",
    "# plt.colorbar()"
   ]
  },
  {
   "cell_type": "code",
   "execution_count": 82,
   "metadata": {},
   "outputs": [
    {
     "data": {
      "image/png": "[encoded data removed]",
      "text/plain": [
       "<Figure size 1200x1000 with 1 Axes>"
      ]
     },
     "metadata": {},
     "output_type": "display_data"
    }
   ],
   "source": [
    "%matplotlib inline\n",
    "\n",
    "for i in range(0, iterator, 1):\n",
    "    plt.figure(figsize=(12, 10))\n",
    "    plt.imshow(field_states[i])\n",
    "    plt.show()\n",
    "    #sleep(0.01)\n",
    "    clear_output(wait=True)"
   ]
  },
  {
   "cell_type": "code",
   "execution_count": 83,
   "metadata": {},
   "outputs": [
    {
     "data": {
      "text/plain": [
       "array([[[0.91761713, 0.78749034, 0.17141672, ..., 0.23444856,\n",
       "         0.07636387, 0.603058  ],\n",
       "        [0.87578992, 0.61347174, 0.06582836, ..., 0.1701232 ,\n",
       "         0.38860368, 0.47260982],\n",
       "        [0.75598232, 0.45020523, 0.81818577, ..., 0.12992379,\n",
       "         0.1924714 , 0.98940491],\n",
       "        ...,\n",
       "        [5.        , 0.12167645, 0.84507309, ..., 0.60650774,\n",
       "         0.75765914, 0.4458041 ],\n",
       "        [5.        , 0.6380162 , 0.57637095, ..., 0.26614559,\n",
       "         0.91776222, 0.19689922],\n",
       "        [5.        , 5.        , 0.75433686, ..., 0.48720298,\n",
       "         0.49998981, 0.66740489]],\n",
       "\n",
       "       [[0.91761713, 0.78749034, 0.17141672, ..., 0.23444856,\n",
       "         0.07636387, 0.603058  ],\n",
       "        [0.87578992, 0.61347174, 0.06582836, ..., 0.1701232 ,\n",
       "         0.38860368, 0.47260982],\n",
       "        [0.75598232, 0.45020523, 0.81818577, ..., 0.12992379,\n",
       "         0.1924714 , 0.98940491],\n",
       "        ...,\n",
       "        [5.        , 5.        , 0.84507309, ..., 0.60650774,\n",
       "         0.75765914, 0.4458041 ],\n",
       "        [5.        , 0.6380162 , 0.57637095, ..., 0.26614559,\n",
       "         0.91776222, 0.19689922],\n",
       "        [5.        , 5.        , 0.75433686, ..., 0.48720298,\n",
       "         0.49998981, 0.66740489]],\n",
       "\n",
       "       [[0.91761713, 0.78749034, 0.17141672, ..., 0.23444856,\n",
       "         0.07636387, 0.603058  ],\n",
       "        [0.87578992, 0.61347174, 0.06582836, ..., 0.1701232 ,\n",
       "         0.38860368, 0.47260982],\n",
       "        [0.75598232, 0.45020523, 0.81818577, ..., 0.12992379,\n",
       "         0.1924714 , 0.98940491],\n",
       "        ...,\n",
       "        [5.        , 5.        , 0.84507309, ..., 0.60650774,\n",
       "         0.75765914, 0.4458041 ],\n",
       "        [5.        , 0.6380162 , 0.57637095, ..., 0.26614559,\n",
       "         0.91776222, 0.19689922],\n",
       "        [5.        , 5.        , 0.75433686, ..., 0.48720298,\n",
       "         0.49998981, 0.66740489]],\n",
       "\n",
       "       ...,\n",
       "\n",
       "       [[0.        , 0.        , 0.        , ..., 0.        ,\n",
       "         0.        , 0.        ],\n",
       "        [0.        , 0.        , 0.        , ..., 0.        ,\n",
       "         0.        , 0.        ],\n",
       "        [0.        , 0.        , 0.        , ..., 0.        ,\n",
       "         0.        , 0.        ],\n",
       "        ...,\n",
       "        [0.        , 0.        , 0.        , ..., 0.        ,\n",
       "         0.        , 0.        ],\n",
       "        [0.        , 0.        , 0.        , ..., 0.        ,\n",
       "         0.        , 0.        ],\n",
       "        [0.        , 0.        , 0.        , ..., 0.        ,\n",
       "         0.        , 0.        ]],\n",
       "\n",
       "       [[0.        , 0.        , 0.        , ..., 0.        ,\n",
       "         0.        , 0.        ],\n",
       "        [0.        , 0.        , 0.        , ..., 0.        ,\n",
       "         0.        , 0.        ],\n",
       "        [0.        , 0.        , 0.        , ..., 0.        ,\n",
       "         0.        , 0.        ],\n",
       "        ...,\n",
       "        [0.        , 0.        , 0.        , ..., 0.        ,\n",
       "         0.        , 0.        ],\n",
       "        [0.        , 0.        , 0.        , ..., 0.        ,\n",
       "         0.        , 0.        ],\n",
       "        [0.        , 0.        , 0.        , ..., 0.        ,\n",
       "         0.        , 0.        ]],\n",
       "\n",
       "       [[0.        , 0.        , 0.        , ..., 0.        ,\n",
       "         0.        , 0.        ],\n",
       "        [0.        , 0.        , 0.        , ..., 0.        ,\n",
       "         0.        , 0.        ],\n",
       "        [0.        , 0.        , 0.        , ..., 0.        ,\n",
       "         0.        , 0.        ],\n",
       "        ...,\n",
       "        [0.        , 0.        , 0.        , ..., 0.        ,\n",
       "         0.        , 0.        ],\n",
       "        [0.        , 0.        , 0.        , ..., 0.        ,\n",
       "         0.        , 0.        ],\n",
       "        [0.        , 0.        , 0.        , ..., 0.        ,\n",
       "         0.        , 0.        ]]])"
      ]
     },
     "execution_count": 83,
     "metadata": {},
     "output_type": "execute_result"
    }
   ],
   "source": [
    "time = np.argmin(field_states == np.zeros((L, 2 * L)))\n",
    "field_states"
   ]
  },
  {
   "cell_type": "code",
   "execution_count": null,
   "metadata": {},
   "outputs": [],
   "source": []
  }
 ],
 "metadata": {
  "kernelspec": {
   "display_name": "Python 3",
   "language": "python",
   "name": "python3"
  },
  "language_info": {
   "codemirror_mode": {
    "name": "ipython",
    "version": 3
   },
   "file_extension": ".py",
   "mimetype": "text/x-python",
   "name": "python",
   "nbconvert_exporter": "python",
   "pygments_lexer": "ipython3",
   "version": "3.10.5"
  }
 },
 "nbformat": 4,
 "nbformat_minor": 2
}
